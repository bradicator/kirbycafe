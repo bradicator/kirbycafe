{
 "cells": [
  {
   "cell_type": "markdown",
   "metadata": {},
   "source": [
    "## Reserve at [Kirby Cafe](https://kirbycafe.jp/tokyo/)"
   ]
  },
  {
   "cell_type": "code",
   "execution_count": 1,
   "metadata": {},
   "outputs": [
    {
     "name": "stderr",
     "output_type": "stream",
     "text": [
      "/Users/bradzhao/Library/Python/3.9/lib/python/site-packages/urllib3/__init__.py:34: NotOpenSSLWarning: urllib3 v2 only supports OpenSSL 1.1.1+, currently the 'ssl' module is compiled with 'LibreSSL 2.8.3'. See: https://github.com/urllib3/urllib3/issues/3020\n",
      "  warnings.warn(\n"
     ]
    }
   ],
   "source": [
    "import requests\n",
    "import json"
   ]
  },
  {
   "cell_type": "code",
   "execution_count": 21,
   "metadata": {},
   "outputs": [],
   "source": [
    "## reserve info\n",
    "payload = {\"shop_id\":2,\"start_at\":\"2023-12-11 12:35\",\"quantity\":1}\n",
    "firstname = \"john\"\n",
    "lastname = \"doe\"\n",
    "mobile = \"080-1234-5678\"\n",
    "email = \"brad@gmail.com\""
   ]
  },
  {
   "cell_type": "code",
   "execution_count": 17,
   "metadata": {},
   "outputs": [],
   "source": [
    "post_header_text = \"\"\"\n",
    ":Authority:\n",
    "kirbycafe-reserve.com\n",
    ":Method:\n",
    "POST\n",
    ":Path:\n",
    "/api/guest/reserve/keep\n",
    ":Scheme:\n",
    "https\n",
    "Accept:\n",
    "application/json, text/plain, */*\n",
    "Accept-Encoding:\n",
    "gzip, deflate, br\n",
    "Accept-Language:\n",
    "en-US,en;q=0.9,zh-CN;q=0.8,zh;q=0.7\n",
    "Content-Length:\n",
    "56\n",
    "Content-Type:\n",
    "application/json;charset=UTF-8\n",
    "Origin:\n",
    "https://kirbycafe-reserve.com\n",
    "Referer:\n",
    "https://kirbycafe-reserve.com/guest/hakata/reserve/\n",
    "Sec-Ch-Ua:\n",
    "\"Not.A/Brand\";v=\"8\", \"Chromium\";v=\"114\", \"Google Chrome\";v=\"114\"\n",
    "Sec-Ch-Ua-Mobile:\n",
    "?0\n",
    "Sec-Ch-Ua-Platform:\n",
    "\"macOS\"\n",
    "Sec-Fetch-Dest:\n",
    "empty\n",
    "Sec-Fetch-Mode:\n",
    "cors\n",
    "Sec-Fetch-Site:\n",
    "same-origin\n",
    "User-Agent:\n",
    "Mozilla/5.0 (Macintosh; Intel Mac OS X 10_15_7) AppleWebKit/537.36 (KHTML, like Gecko) Chrome/114.0.0.0 Safari/537.36\n",
    "X-Kbcf:\n",
    "kbcf\n",
    "X-Language:\n",
    "en\n",
    "\"\"\"\n"
   ]
  },
  {
   "cell_type": "code",
   "execution_count": 18,
   "metadata": {},
   "outputs": [],
   "source": [
    "def parse_chrome_header(text):\n",
    "    header = {}\n",
    "    listified = text.split(\"\\n\")[1:-1]\n",
    "    i = 0\n",
    "    while i < len(listified):\n",
    "        if listified[i][0] == \":\":\n",
    "            header[listified[i][1:-1]] = listified[i+1]\n",
    "        else:\n",
    "            header[listified[i][:-1]] = listified[i+1]\n",
    "        i+=2\n",
    "    return header"
   ]
  },
  {
   "cell_type": "markdown",
   "metadata": {},
   "source": [
    "### post and get token"
   ]
  },
  {
   "cell_type": "code",
   "execution_count": 22,
   "metadata": {},
   "outputs": [
    {
     "name": "stdout",
     "output_type": "stream",
     "text": [
      "{\"id\":1114330,\"code\":null,\"shop_id\":2,\"target_inventory_id\":1119593,\"quantity\":1,\"start_at\":\"2023-12-11 12:35:00\",\"status\":\"kept\",\"token\":\"7c6ae94ce356b09eca1a571e1e1a2166d2b8e1877cf52ba3228adf3f0be3d3d7dc2d24e0eae731aa41dc2c7be9ec7b07708557258d5dea93c170525c3148155c\",\"is_walk_in\":0,\"memo\":null,\"created_at\":\"2023-11-17 12:27:03\",\"updated_at\":\"2023-11-17 12:27:03\",\"deleted_at\":null}\n"
     ]
    }
   ],
   "source": [
    "url = \"https://kirbycafe-reserve.com/api/guest/reserve/keep\"\n",
    "json_payload = json.dumps(payload)\n",
    "header = parse_chrome_header(post_header_text)\n",
    "response = requests.post(url, data=json_payload, headers=header)\n",
    "print(response.text)"
   ]
  },
  {
   "cell_type": "markdown",
   "metadata": {},
   "source": [
    "### confirm and put"
   ]
  },
  {
   "cell_type": "code",
   "execution_count": 24,
   "metadata": {},
   "outputs": [],
   "source": [
    "data = json.loads(response.text)"
   ]
  },
  {
   "cell_type": "code",
   "execution_count": 25,
   "metadata": {},
   "outputs": [
    {
     "data": {
      "text/plain": [
       "'{\"reserver\": {\"name_l\": \"doe\", \"name_f\": \"john\", \"kana_l\": \"doe\", \"kana_f\": \"john\", \"mobile\": \"080-1234-5678\", \"email\": \"brad@gmail.com\", \"has_birthday\": 0, \"birthday_dessert\": \"\", \"birthday_message_type\": \"\", \"birthday_message_body\": \"\", \"birthday_music_type\": \"\", \"remark\": \"\", \"receive_information\": false, \"lang\": \"en\"}, \"token\": \"7c6ae94ce356b09eca1a571e1e1a2166d2b8e1877cf52ba3228adf3f0be3d3d7dc2d24e0eae731aa41dc2c7be9ec7b07708557258d5dea93c170525c3148155c\"}'"
      ]
     },
     "execution_count": 25,
     "metadata": {},
     "output_type": "execute_result"
    }
   ],
   "source": [
    "confirm_text = '{\"reserver\":{\"name_l\":\"\",\"name_f\":\"\",\"kana_l\":\"\",\"kana_f\":\"\",\"mobile\":\"\",\"email\":\"\",\"has_birthday\":0,\"birthday_dessert\":\"\",\"birthday_message_type\":\"\",\"birthday_message_body\":\"\",\"birthday_music_type\":\"\",\"remark\":\"\",\"receive_information\":false,\"lang\":\"en\"},\"token\":\"\"}'\n",
    "confirm_data = json.loads(confirm_text)\n",
    "confirm_data['token'] = data['token']\n",
    "confirm_data['reserver']['name_l'] = lastname\n",
    "confirm_data['reserver']['kana_l'] = lastname\n",
    "confirm_data['reserver']['kana_f'] = firstname\n",
    "confirm_data['reserver']['name_f'] = firstname\n",
    "confirm_data['reserver']['mobile'] = mobile\n",
    "confirm_data['reserver']['email'] = email\n",
    "confirm_json = json.dumps(confirm_data)\n",
    "confirm_json"
   ]
  },
  {
   "cell_type": "code",
   "execution_count": 28,
   "metadata": {},
   "outputs": [],
   "source": [
    "put_text=\"\"\"\n",
    ":Authority:\n",
    "kirbycafe-reserve.com\n",
    ":Method:\n",
    "PUT\n",
    ":Path:\n",
    "/api/guest/reserve/confirm\n",
    ":Scheme:\n",
    "https\n",
    "Accept:\n",
    "application/json, text/plain, */*\n",
    "Accept-Encoding:\n",
    "gzip, deflate, br\n",
    "Accept-Language:\n",
    "en-US,en;q=0.9,zh-CN;q=0.8,zh;q=0.7\n",
    "Content-Length:\n",
    "445\n",
    "Content-Type:\n",
    "application/json;charset=UTF-8\n",
    "Origin:\n",
    "https://kirbycafe-reserve.com\n",
    "Referer:\n",
    "https://kirbycafe-reserve.com/guest/hakata/reserve/\n",
    "Sec-Ch-Ua:\n",
    "\"Not.A/Brand\";v=\"8\", \"Chromium\";v=\"114\", \"Google Chrome\";v=\"114\"\n",
    "Sec-Ch-Ua-Mobile:\n",
    "?0\n",
    "Sec-Ch-Ua-Platform:\n",
    "\"macOS\"\n",
    "Sec-Fetch-Dest:\n",
    "empty\n",
    "Sec-Fetch-Mode:\n",
    "cors\n",
    "Sec-Fetch-Site:\n",
    "same-origin\n",
    "User-Agent:\n",
    "Mozilla/5.0 (Macintosh; Intel Mac OS X 10_15_7) AppleWebKit/537.36 (KHTML, like Gecko) Chrome/114.0.0.0 Safari/537.36\n",
    "X-Kbcf:\n",
    "kbcf\n",
    "X-Language:\n",
    "en\n",
    "\"\"\""
   ]
  },
  {
   "cell_type": "code",
   "execution_count": 127,
   "metadata": {},
   "outputs": [
    {
     "name": "stdout",
     "output_type": "stream",
     "text": [
      "{\"id\":1113111,\"code\":\"KH31208038UG\",\"shop_id\":2,\"target_inventory_id\":1118620,\"quantity\":1,\"start_at\":\"2023-12-08 12:35:00\",\"status\":\"reserved\",\"is_walk_in\":0,\"memo\":\"\",\"created_at\":\"2023-11-15 13:05:00\",\"updated_at\":\"2023-11-15 13:13:42\",\"deleted_at\":null,\"reserver\":{\"id\":340630,\"reserve_id\":1113111,\"mobile\":\"08012345678\",\"email\":\"bradocator@gmail.com\",\"lang\":\"en\",\"name_l\":\"zhao\",\"name_f\":\"brad\",\"kana_l\":\"zhao\",\"kana_f\":\"ruofei\",\"remark\":null,\"has_birthday\":0,\"birthday_dessert\":null,\"birthday_message_type\":null,\"birthday_message_body\":null,\"birthday_music_type\":null,\"receive_information\":0,\"created_at\":\"2023-11-15 13:13:41\",\"updated_at\":\"2023-11-15 13:13:41\",\"deleted_at\":null,\"reserved_count\":109},\"shop\":{\"id\":2,\"reservation_open\":1,\"slug\":\"hakata\",\"code\":\"KH\",\"name\":\"\\u30ab\\u30fc\\u30d3\\u30a3\\u30ab\\u30d5\\u30a7 HAKATA\",\"name_en\":\"Kirby Cafe HAKATA\",\"name_shorten\":\"HAKATA\",\"name_shorten_en\":\"HAKATA\",\"zip\":\"812-0018\",\"address\":\"\\u798f\\u5ca1\\u770c\\u798f\\u5ca1\\u5e02\\u535a\\u591a\\u533a\\u4f4f\\u54091-2-1 \\u30ad\\u30e3\\u30ca\\u30eb\\u30b7\\u30c6\\u30a3\\u535a\\u591a\\u30ce\\u30fc\\u30b9\\u30d3\\u30ebB1F\",\"tel\":\"092-710-4279\",\"fax\":null,\"url\":\"https:\\/\\/kirbycafe.jp\\/hakata\\/\",\"reservation_max_connection\":100,\"reservation_max_time\":10,\"inventory_auto\":0,\"inventory_auto_period\":0,\"minutes_for_kept_reserve_expiration\":10}}\n"
     ]
    }
   ],
   "source": [
    "response = requests.put(\"https://kirbycafe-reserve.com/api/guest/reserve/confirm\", \n",
    "                         data=confirm_json, headers=parse_chrome_header(put_text))\n"
   ]
  },
  {
   "cell_type": "code",
   "execution_count": null,
   "metadata": {},
   "outputs": [],
   "source": []
  }
 ],
 "metadata": {
  "kernelspec": {
   "display_name": "Python 3 (ipykernel)",
   "language": "python",
   "name": "python3"
  },
  "language_info": {
   "codemirror_mode": {
    "name": "ipython",
    "version": 3
   },
   "file_extension": ".py",
   "mimetype": "text/x-python",
   "name": "python",
   "nbconvert_exporter": "python",
   "pygments_lexer": "ipython3",
   "version": "3.9.6"
  }
 },
 "nbformat": 4,
 "nbformat_minor": 4
}
