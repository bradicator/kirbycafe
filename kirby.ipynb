{
 "cells": [
  {
   "cell_type": "code",
   "execution_count": 2,
   "metadata": {},
   "outputs": [],
   "source": [
    "import requests\n",
    "import json"
   ]
  },
  {
   "cell_type": "code",
   "execution_count": 108,
   "metadata": {},
   "outputs": [],
   "source": [
    "text = \"\"\"\n",
    ":Authority:\n",
    "kirbycafe-reserve.com\n",
    ":Method:\n",
    "POST\n",
    ":Path:\n",
    "/api/guest/reserve/keep\n",
    ":Scheme:\n",
    "https\n",
    "Accept:\n",
    "application/json, text/plain, */*\n",
    "Accept-Encoding:\n",
    "gzip, deflate, br\n",
    "Accept-Language:\n",
    "en-US,en;q=0.9,zh-CN;q=0.8,zh;q=0.7\n",
    "Content-Length:\n",
    "56\n",
    "Content-Type:\n",
    "application/json;charset=UTF-8\n",
    "Origin:\n",
    "https://kirbycafe-reserve.com\n",
    "Referer:\n",
    "https://kirbycafe-reserve.com/guest/hakata/reserve/\n",
    "Sec-Ch-Ua:\n",
    "\"Not.A/Brand\";v=\"8\", \"Chromium\";v=\"114\", \"Google Chrome\";v=\"114\"\n",
    "Sec-Ch-Ua-Mobile:\n",
    "?0\n",
    "Sec-Ch-Ua-Platform:\n",
    "\"macOS\"\n",
    "Sec-Fetch-Dest:\n",
    "empty\n",
    "Sec-Fetch-Mode:\n",
    "cors\n",
    "Sec-Fetch-Site:\n",
    "same-origin\n",
    "User-Agent:\n",
    "Mozilla/5.0 (Macintosh; Intel Mac OS X 10_15_7) AppleWebKit/537.36 (KHTML, like Gecko) Chrome/114.0.0.0 Safari/537.36\n",
    "X-Kbcf:\n",
    "kbcf\n",
    "X-Language:\n",
    "en\n",
    "\"\"\"\n"
   ]
  },
  {
   "cell_type": "code",
   "execution_count": 109,
   "metadata": {},
   "outputs": [
    {
     "data": {
      "text/plain": [
       "{'Authority': 'kirbycafe-reserve.com',\n",
       " 'Method': 'POST',\n",
       " 'Path': '/api/guest/reserve/keep',\n",
       " 'Scheme': 'https',\n",
       " 'Accept': 'application/json, text/plain, */*',\n",
       " 'Accept-Encoding': 'gzip, deflate, br',\n",
       " 'Accept-Language': 'en-US,en;q=0.9,zh-CN;q=0.8,zh;q=0.7',\n",
       " 'Content-Length': '56',\n",
       " 'Content-Type': 'application/json;charset=UTF-8',\n",
       " 'Origin': 'https://kirbycafe-reserve.com',\n",
       " 'Referer': 'https://kirbycafe-reserve.com/guest/hakata/reserve/',\n",
       " 'Sec-Ch-Ua': '\"Not.A/Brand\";v=\"8\", \"Chromium\";v=\"114\", \"Google Chrome\";v=\"114\"',\n",
       " 'Sec-Ch-Ua-Mobile': '?0',\n",
       " 'Sec-Ch-Ua-Platform': '\"macOS\"',\n",
       " 'Sec-Fetch-Dest': 'empty',\n",
       " 'Sec-Fetch-Mode': 'cors',\n",
       " 'Sec-Fetch-Site': 'same-origin',\n",
       " 'User-Agent': 'Mozilla/5.0 (Macintosh; Intel Mac OS X 10_15_7) AppleWebKit/537.36 (KHTML, like Gecko) Chrome/114.0.0.0 Safari/537.36',\n",
       " 'X-Kbcf': 'kbcf',\n",
       " 'X-Language': 'en'}"
      ]
     },
     "execution_count": 109,
     "metadata": {},
     "output_type": "execute_result"
    }
   ],
   "source": [
    "header = {}\n",
    "listified = text.split(\"\\n\")[1:-1]\n",
    "i = 0\n",
    "while i < len(listified):\n",
    "    if listified[i][0] == \":\":\n",
    "        header[listified[i][1:-1]] = listified[i+1]\n",
    "    else:\n",
    "        header[listified[i][:-1]] = listified[i+1]\n",
    "    i+=2\n",
    "header\n",
    "    "
   ]
  },
  {
   "cell_type": "code",
   "execution_count": 110,
   "metadata": {},
   "outputs": [
    {
     "name": "stdout",
     "output_type": "stream",
     "text": [
      "{\"id\":1113111,\"code\":null,\"shop_id\":2,\"target_inventory_id\":1118620,\"quantity\":1,\"start_at\":\"2023-12-08 12:35:00\",\"status\":\"kept\",\"token\":\"18cb3d02d90730abe33abcacdd27c5d667ccfcc2cb79b7efa7456f44d4ef8584ad5739edc136cad9276f2fa09bab1771f924886bb9a5d4f420a4718def79fb45\",\"is_walk_in\":0,\"memo\":null,\"created_at\":\"2023-11-15 13:05:00\",\"updated_at\":\"2023-11-15 13:05:00\",\"deleted_at\":null}\n"
     ]
    }
   ],
   "source": [
    "url = \"https://kirbycafe-reserve.com/api/guest/reserve/keep\"\n",
    "payload = {\"shop_id\":2,\"start_at\":\"2023-12-08 12:35\",\"quantity\":1}\n",
    "json_payload = json.dumps(payload)\n",
    "response = requests.post(url, data=json_payload, headers=header)\n",
    "print(response.text)"
   ]
  },
  {
   "cell_type": "code",
   "execution_count": 111,
   "metadata": {},
   "outputs": [],
   "source": [
    "data = json.loads(response.text)"
   ]
  },
  {
   "cell_type": "code",
   "execution_count": 126,
   "metadata": {},
   "outputs": [
    {
     "data": {
      "text/plain": [
       "'{\"reserver\": {\"name_l\": \"zhao\", \"name_f\": \"brad\", \"kana_l\": \"zhao\", \"kana_f\": \"ruofei\", \"mobile\": \"080-1234-5678\", \"email\": \"bradocator@gmail.com\", \"has_birthday\": 0, \"birthday_dessert\": \"\", \"birthday_message_type\": \"\", \"birthday_message_body\": \"\", \"birthday_music_type\": \"\", \"remark\": \"\", \"receive_information\": false, \"lang\": \"en\"}, \"token\": \"18cb3d02d90730abe33abcacdd27c5d667ccfcc2cb79b7efa7456f44d4ef8584ad5739edc136cad9276f2fa09bab1771f924886bb9a5d4f420a4718def79fb45\"}'"
      ]
     },
     "execution_count": 126,
     "metadata": {},
     "output_type": "execute_result"
    }
   ],
   "source": [
    "confirm_text = '{\"reserver\":{\"name_l\":\"zhao\",\"name_f\":\"brad\",\"kana_l\":\"zhao\",\"kana_f\":\"ruofei\",\"mobile\":\"080-1234-5678\",\"email\":\"bradocator@gmail.com\",\"has_birthday\":0,\"birthday_dessert\":\"\",\"birthday_message_type\":\"\",\"birthday_message_body\":\"\",\"birthday_music_type\":\"\",\"remark\":\"\",\"receive_information\":false,\"lang\":\"en\"},\"token\":\"751f32d0ab8fe9b3a67d0ca2aa715f08f4483734a8d485d0003e184d113b9ac222345049b429619cf27b6fd7745d9fa2b0bf300990b24e4f4c0014841337fc07\"}'\n",
    "confirm_data = json.loads(confirm_text)\n",
    "confirm_data['token'] = data['token']\n",
    "confirm_json = json.dumps(confirm_data)\n",
    "confirm_json"
   ]
  },
  {
   "cell_type": "code",
   "execution_count": 121,
   "metadata": {},
   "outputs": [
    {
     "ename": "TypeError",
     "evalue": "string indices must be integers",
     "output_type": "error",
     "traceback": [
      "\u001b[0;31m---------------------------------------------------------------------------\u001b[0m",
      "\u001b[0;31mTypeError\u001b[0m                                 Traceback (most recent call last)",
      "\u001b[0;32m<ipython-input-121-6c7757d9e315>\u001b[0m in \u001b[0;36m<module>\u001b[0;34m\u001b[0m\n\u001b[0;32m----> 1\u001b[0;31m \u001b[0mconfirm_json\u001b[0m\u001b[0;34m[\u001b[0m\u001b[0;34m'reserver'\u001b[0m\u001b[0;34m]\u001b[0m\u001b[0;34m[\u001b[0m\u001b[0;34m'receive_information'\u001b[0m\u001b[0;34m]\u001b[0m\u001b[0;34m\u001b[0m\u001b[0;34m\u001b[0m\u001b[0m\n\u001b[0m",
      "\u001b[0;31mTypeError\u001b[0m: string indices must be integers"
     ]
    }
   ],
   "source": [
    "confirm_json['reserver']['receive_information']"
   ]
  },
  {
   "cell_type": "code",
   "execution_count": 113,
   "metadata": {},
   "outputs": [],
   "source": [
    "text=\"\"\"\n",
    ":Authority:\n",
    "kirbycafe-reserve.com\n",
    ":Method:\n",
    "PUT\n",
    ":Path:\n",
    "/api/guest/reserve/confirm\n",
    ":Scheme:\n",
    "https\n",
    "Accept:\n",
    "application/json, text/plain, */*\n",
    "Accept-Encoding:\n",
    "gzip, deflate, br\n",
    "Accept-Language:\n",
    "en-US,en;q=0.9,zh-CN;q=0.8,zh;q=0.7\n",
    "Content-Length:\n",
    "445\n",
    "Content-Type:\n",
    "application/json;charset=UTF-8\n",
    "Origin:\n",
    "https://kirbycafe-reserve.com\n",
    "Referer:\n",
    "https://kirbycafe-reserve.com/guest/hakata/reserve/\n",
    "Sec-Ch-Ua:\n",
    "\"Not.A/Brand\";v=\"8\", \"Chromium\";v=\"114\", \"Google Chrome\";v=\"114\"\n",
    "Sec-Ch-Ua-Mobile:\n",
    "?0\n",
    "Sec-Ch-Ua-Platform:\n",
    "\"macOS\"\n",
    "Sec-Fetch-Dest:\n",
    "empty\n",
    "Sec-Fetch-Mode:\n",
    "cors\n",
    "Sec-Fetch-Site:\n",
    "same-origin\n",
    "User-Agent:\n",
    "Mozilla/5.0 (Macintosh; Intel Mac OS X 10_15_7) AppleWebKit/537.36 (KHTML, like Gecko) Chrome/114.0.0.0 Safari/537.36\n",
    "X-Kbcf:\n",
    "kbcf\n",
    "X-Language:\n",
    "en\"\"\""
   ]
  },
  {
   "cell_type": "code",
   "execution_count": 118,
   "metadata": {},
   "outputs": [
    {
     "data": {
      "text/plain": [
       "{'Authority': 'kirbycafe-reserve.com',\n",
       " 'Method': 'PUT',\n",
       " 'Path': '/api/guest/reserve/confirm',\n",
       " 'Scheme': 'https',\n",
       " 'Accept': 'application/json, text/plain, */*',\n",
       " 'Accept-Encoding': 'gzip, deflate, br',\n",
       " 'Accept-Language': 'en-US,en;q=0.9,zh-CN;q=0.8,zh;q=0.7',\n",
       " 'Content-Length': '445',\n",
       " 'Content-Type': 'application/json;charset=UTF-8',\n",
       " 'Origin': 'https://kirbycafe-reserve.com',\n",
       " 'Referer': 'https://kirbycafe-reserve.com/guest/hakata/reserve/',\n",
       " 'Sec-Ch-Ua': '\"Not.A/Brand\";v=\"8\", \"Chromium\";v=\"114\", \"Google Chrome\";v=\"114\"',\n",
       " 'Sec-Ch-Ua-Mobile': '?0',\n",
       " 'Sec-Ch-Ua-Platform': '\"macOS\"',\n",
       " 'Sec-Fetch-Dest': 'empty',\n",
       " 'Sec-Fetch-Mode': 'cors',\n",
       " 'Sec-Fetch-Site': 'same-origin',\n",
       " 'User-Agent': 'Mozilla/5.0 (Macintosh; Intel Mac OS X 10_15_7) AppleWebKit/537.36 (KHTML, like Gecko) Chrome/114.0.0.0 Safari/537.36',\n",
       " 'X-Kbcf': 'kbcf',\n",
       " 'X-Language': 'en'}"
      ]
     },
     "execution_count": 118,
     "metadata": {},
     "output_type": "execute_result"
    }
   ],
   "source": [
    "header = {}\n",
    "listified = text.split(\"\\n\")[1:]\n",
    "i = 0\n",
    "while i < len(listified):\n",
    "    if listified[i][0] == \":\":\n",
    "        pass\n",
    "        header[listified[i][1:-1]] = listified[i+1]\n",
    "    else:\n",
    "        header[listified[i][:-1]] = listified[i+1]\n",
    "    i+=2\n",
    "header\n",
    "    "
   ]
  },
  {
   "cell_type": "code",
   "execution_count": 125,
   "metadata": {},
   "outputs": [
    {
     "data": {
      "text/plain": [
       "'{\"reserver\": {\"name_l\": \"zhao\", \"name_f\": \"brad\", \"kana_l\": \"zhao\", \"kana_f\": \"ruofei\", \"mobile\": \"080-1234-5678\", \"email\": \"bradocator@gmail.com\", \"has_birthday\": 0, \"birthday_dessert\": \"\", \"birthday_message_type\": \"\", \"birthday_message_body\": \"\", \"birthday_music_type\": \"\", \"remark\": \"\", \"receive_information\": false, \"lang\": \"en\", \"token\": \"18cb3d02d90730abe33abcacdd27c5d667ccfcc2cb79b7efa7456f44d4ef8584ad5739edc136cad9276f2fa09bab1771f924886bb9a5d4f420a4718def79fb45\"}, \"token\": \"751f32d0ab8fe9b3a67d0ca2aa715f08f4483734a8d485d0003e184d113b9ac222345049b429619cf27b6fd7745d9fa2b0bf300990b24e4f4c0014841337fc07\"}'"
      ]
     },
     "execution_count": 125,
     "metadata": {},
     "output_type": "execute_result"
    }
   ],
   "source": [
    "confirm_json"
   ]
  },
  {
   "cell_type": "code",
   "execution_count": 127,
   "metadata": {},
   "outputs": [
    {
     "name": "stdout",
     "output_type": "stream",
     "text": [
      "{\"id\":1113111,\"code\":\"KH31208038UG\",\"shop_id\":2,\"target_inventory_id\":1118620,\"quantity\":1,\"start_at\":\"2023-12-08 12:35:00\",\"status\":\"reserved\",\"is_walk_in\":0,\"memo\":\"\",\"created_at\":\"2023-11-15 13:05:00\",\"updated_at\":\"2023-11-15 13:13:42\",\"deleted_at\":null,\"reserver\":{\"id\":340630,\"reserve_id\":1113111,\"mobile\":\"08012345678\",\"email\":\"bradocator@gmail.com\",\"lang\":\"en\",\"name_l\":\"zhao\",\"name_f\":\"brad\",\"kana_l\":\"zhao\",\"kana_f\":\"ruofei\",\"remark\":null,\"has_birthday\":0,\"birthday_dessert\":null,\"birthday_message_type\":null,\"birthday_message_body\":null,\"birthday_music_type\":null,\"receive_information\":0,\"created_at\":\"2023-11-15 13:13:41\",\"updated_at\":\"2023-11-15 13:13:41\",\"deleted_at\":null,\"reserved_count\":109},\"shop\":{\"id\":2,\"reservation_open\":1,\"slug\":\"hakata\",\"code\":\"KH\",\"name\":\"\\u30ab\\u30fc\\u30d3\\u30a3\\u30ab\\u30d5\\u30a7 HAKATA\",\"name_en\":\"Kirby Cafe HAKATA\",\"name_shorten\":\"HAKATA\",\"name_shorten_en\":\"HAKATA\",\"zip\":\"812-0018\",\"address\":\"\\u798f\\u5ca1\\u770c\\u798f\\u5ca1\\u5e02\\u535a\\u591a\\u533a\\u4f4f\\u54091-2-1 \\u30ad\\u30e3\\u30ca\\u30eb\\u30b7\\u30c6\\u30a3\\u535a\\u591a\\u30ce\\u30fc\\u30b9\\u30d3\\u30ebB1F\",\"tel\":\"092-710-4279\",\"fax\":null,\"url\":\"https:\\/\\/kirbycafe.jp\\/hakata\\/\",\"reservation_max_connection\":100,\"reservation_max_time\":10,\"inventory_auto\":0,\"inventory_auto_period\":0,\"minutes_for_kept_reserve_expiration\":10}}\n"
     ]
    }
   ],
   "source": [
    "response = requests.put(\"https://kirbycafe-reserve.com/api/guest/reserve/confirm\", \n",
    "                         data=confirm_json, headers=header)\n",
    "print(response.text)"
   ]
  },
  {
   "cell_type": "code",
   "execution_count": null,
   "metadata": {},
   "outputs": [],
   "source": []
  }
 ],
 "metadata": {
  "kernelspec": {
   "display_name": "Python 3",
   "language": "python",
   "name": "python3"
  },
  "language_info": {
   "codemirror_mode": {
    "name": "ipython",
    "version": 3
   },
   "file_extension": ".py",
   "mimetype": "text/x-python",
   "name": "python",
   "nbconvert_exporter": "python",
   "pygments_lexer": "ipython3",
   "version": "3.7.2"
  }
 },
 "nbformat": 4,
 "nbformat_minor": 2
}
